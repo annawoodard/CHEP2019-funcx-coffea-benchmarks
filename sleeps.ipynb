{
 "cells": [
  {
   "cell_type": "code",
   "execution_count": 2,
   "metadata": {},
   "outputs": [],
   "source": [
    "import os\n",
    "import sqlite3\n",
    "import time\n",
    "\n",
    "import matplotlib.pyplot as plt\n",
    "plt.rcParams.update({'font.size': 14})\n",
    "#plt.rcParams['legend.handlelength'] = 0\n",
    "from matplotlib.ticker import MultipleLocator, FuncFormatter\n",
    "import numpy as np\n",
    "import pandas as pd\n",
    "pd.set_option('display.max_rows', None)\n",
    "import seaborn as sns\n",
    "sns.set_palette(sns.color_palette(\"cubehelix\", 8))"
   ]
  },
  {
   "cell_type": "code",
   "execution_count": 3,
   "metadata": {},
   "outputs": [],
   "source": [
    "def get_dataframes(query, databases):\n",
    "    dataframes = []\n",
    "    for database in databases:\n",
    "        db = sqlite3.connect(database)\n",
    "        dataframes += [pd.read_sql_query(query, db)]\n",
    "        db.close()\n",
    "    return pd.concat(dataframes)"
   ]
  },
  {
   "cell_type": "code",
   "execution_count": 4,
   "metadata": {},
   "outputs": [],
   "source": [
    "query = 'select start_submit, end_submit, returned, tasks, connected_managers, cores_per_manager, sleep_seconds from analyses'\n",
    "analyses = get_dataframes(query, ['data.db'])\n",
    "analyses['makespan'] = (analyses.returned - analyses.start_submit) / 60.\n",
    "analyses['cores'] = analyses.connected_managers * analyses.cores_per_manager\n",
    "analyses['date'] = [time.strftime('%Y-%m-%d %H:%M:%S', time.localtime(t)) for t in analyses.returned]\n",
    "analyses['submit_minutes'] = (analyses.end_submit - analyses.start_submit) / 60."
   ]
  },
  {
   "cell_type": "code",
   "execution_count": 5,
   "metadata": {},
   "outputs": [
    {
     "data": {
      "image/png": "[encoded data removed]",
      "text/plain": [
       "<Figure size 432x288 with 1 Axes>"
      ]
     },
     "metadata": {},
     "output_type": "display_data"
    }
   ],
   "source": [
    "plt.scatter(analyses.cores, analyses.makespan, label='1 minute sleep makespan')\n",
    "plt.ylabel('minutes')\n",
    "plt.ylim(ymin=0, ymax=110)\n",
    "\n",
    "plt.scatter(analyses.cores, analyses.submit_minutes, label='submit time', color='red')\n",
    "plt.ylim(ymin=0)\n",
    "ideal_time = analyses.tasks[0] / analyses.cores[0] * analyses.sleep_seconds[0] / 60\n",
    "plt.axhline(y=ideal_time, xmin=0.05, xmax=0.95, linewidth=2, linestyle='dashed', color='black', label='ideal')\n",
    "\n",
    "plt.xlabel('workers')\n",
    "plt.title('weak scaling: 10 tasks / worker')\n",
    "\n",
    "plt.legend(loc='upper left', frameon=False)\n",
    "plt.savefig('plots/weak_scaling.pdf', bbox_inches=\"tight\")"
   ]
  }
 ],
 "metadata": {
  "kernelspec": {
   "display_name": "Python 3",
   "language": "python",
   "name": "python3"
  },
  "language_info": {
   "codemirror_mode": {
    "name": "ipython",
    "version": 3
   },
   "file_extension": ".py",
   "mimetype": "text/x-python",
   "name": "python",
   "nbconvert_exporter": "python",
   "pygments_lexer": "ipython3",
   "version": "3.6.5"
  }
 },
 "nbformat": 4,
 "nbformat_minor": 2
}
